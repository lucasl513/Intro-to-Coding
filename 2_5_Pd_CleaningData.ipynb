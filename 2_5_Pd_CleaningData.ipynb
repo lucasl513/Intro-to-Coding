{
 "cells": [
  {
   "cell_type": "markdown",
   "id": "05791789",
   "metadata": {},
   "source": [
    "# Explore Data Analysis\n",
    "\n",
    "Look at the structure and characteristics of the dataset by using functions such as:\n",
    "\n",
    "* [df.head( )](https://pandas.pydata.org/docs/reference/api/pandas.DataFrame.head.html) or [df.tail( )](https://pandas.pydata.org/docs/reference/api/pandas.DataFrame.tail.html)\n",
    "\n",
    "* [df.sample( )](https://pandas.pydata.org/docs/reference/api/pandas.DataFrame.sample.html)\n",
    "\n",
    "* [df.describe( )](https://pandas.pydata.org/docs/reference/api/pandas.DataFrame.describe.html)\n",
    "\n",
    "* [df.info( )](https://pandas.pydata.org/docs/reference/api/pandas.DataFrame.info.html)\n",
    "\n",
    "* [df[col_name].unique( )](https://pandas.pydata.org/docs/reference/api/pandas.unique.html) and [df[col_name].nunique( )](https://pandas.pydata.org/docs/reference/api/pandas.DataFrame.nunique.html)\n",
    "\n",
    "* [df[col_name].value_counts( )](https://pandas.pydata.org/docs/reference/api/pandas.Series.value_counts.html)\n",
    "\n"
   ]
  },
  {
   "cell_type": "markdown",
   "id": "1247e3a9",
   "metadata": {},
   "source": [
    "# Import libraries, load the dataframe, explore the data\n",
    "\n",
    "Write your findings below:\n"
   ]
  },
  {
   "cell_type": "code",
   "execution_count": 2,
   "id": "51f77a2f",
   "metadata": {},
   "outputs": [
    {
     "name": "stdout",
     "output_type": "stream",
     "text": [
      "             STATION      DATE   PRCP   SNWD   SNOW   TMAX  TMIN\n",
      "0               ----      ----   ----   ----   ----   ----   ---\n",
      "1  GHCND:USW00014764  20130101      0    254      0      0  -117\n",
      "2  GHCND:USW00014764  20130102      0    254      0    -44  -161\n"
     ]
    }
   ],
   "source": [
    "# import libraries, load dataframe, explore the data\n",
    "\n",
    "import pandas as pd\n",
    "import numpy as np\n",
    "df=pd.read_csv('P_WX2013b.csv', dtype={'DATE':object, 'PRCP':object,\n",
    "'SNWD':object, 'SNOW':object,\n",
    "'TMAX':object, 'TMIN':object,})\n",
    "\n",
    "print(df.head(3))"
   ]
  },
  {
   "cell_type": "markdown",
   "id": "7f89ff86",
   "metadata": {},
   "source": [
    "# Rename Columns\n",
    "\n",
    "Using the [rename( )](https://pandas.pydata.org/docs/reference/api/pandas.DataFrame.rename.html) function on the dataframe, pass in a dictionary that maps the old column name to the new column name\n",
    "\n",
    "`df.rename(columns={old_col_A:new_col_A, old_col_B:new_col_B, ...})`\n",
    "\n",
    "---\n",
    "\n",
    "Add the `inplace=True` parameter or make a copy of the dataframe and save the change to this copy."
   ]
  },
  {
   "cell_type": "code",
   "execution_count": 3,
   "id": "24f2ffdf",
   "metadata": {},
   "outputs": [
    {
     "name": "stdout",
     "output_type": "stream",
     "text": [
      "{'STATION': 'station', 'DATE': 'date', 'PRCP': 'prcp', 'SNWD': 'snwd', 'SNOW': 'snow', 'TMAX': 'tmax', 'TMIN': 'tmin'}\n"
     ]
    }
   ],
   "source": [
    "# rename the columns so they are all lower case;\n",
    "# DO NOT type the {old: new names}, write a function that takes the column names,\n",
    "# use `df.columns` to get these, and returns a dictionary;\n",
    "# create a .py file that will be used for helper functions you create and used  \n",
    "# the throughout course; import this file into this notebook and use it to get the \n",
    "# dict that can be passed into `.rename()`\n",
    "# Add the `inplace=True` parameter or make a copy of the dataframe and save the change to this copy.\n",
    "inplace=True\n",
    "def rename_columns(cols):\n",
    "    col_dict = {}\n",
    "    for col in cols:\n",
    "        col_dict[col] = col.lower()\n",
    "    return col_dict\n",
    "test=rename_columns(df.columns)\n",
    "print(test)\n"
   ]
  },
  {
   "cell_type": "markdown",
   "id": "45f0a41e",
   "metadata": {},
   "source": [
    "# Remove Rows/Columns\n",
    "\n"
   ]
  },
  {
   "cell_type": "markdown",
   "id": "21b31062",
   "metadata": {},
   "source": [
    "In Pandas, the [drop( )](https://pandas.pydata.org/docs/reference/api/pandas.DataFrame.drop.html) method is used to remove rows or columns from a DataFrame.\n",
    "\n",
    "---\n",
    "\n",
    "To drop **rows**, you specify the index/name label(s) of the row(s) to be removed. The axis parameter should be set to 0 or 'index' (axis=0 is default so not necessary)\n",
    "\n",
    "`df.drop(row_name, axis=0). # single row`\n",
    "\n",
    "`df.drop([row_name1, row_name2, ...], axis=0)  # multiple rows`\n",
    "\n",
    "---\n",
    "\n",
    "To drop **columns**, you specify the index/name label(s) of the columns(s) to be removed. The axis parameter should be set to 1 (axis=0 is default so this is necessary)\n",
    "\n",
    "`df.drop(col_name, axis=1). # single col`\n",
    "\n",
    "`df.drop([col_name1, col_name2, ...], axis=1)  # multiple cols`\n",
    "\n",
    "---\n",
    "\n",
    "Add the `inplace=True` parameter or make a `copy()` of the dataframe and save the change to this copy.\n",
    "\n"
   ]
  },
  {
   "cell_type": "code",
   "execution_count": 4,
   "id": "25a8bcbe",
   "metadata": {},
   "outputs": [
    {
     "name": "stdout",
     "output_type": "stream",
     "text": [
      "       DATE PRCP SNOW TMAX  TMIN\n",
      "1  20130101    0    0    0  -117\n",
      "2  20130102    0    0  -44  -161\n",
      "3  20130103    0    0  -50  -178\n"
     ]
    }
   ],
   "source": [
    "# remove row 0 and the 'station' and 'snwd' columns\n",
    "#save this change to a copy of the dataframe\n",
    "inplace=True\n",
    "df=df.drop(index=0)\n",
    "df=df.drop(columns=['STATION', 'SNWD'])\n",
    "print(df.head(3))\n",
    "\n"
   ]
  },
  {
   "cell_type": "markdown",
   "id": "05c042b0",
   "metadata": {},
   "source": [
    "# Set/Reset Indices"
   ]
  },
  {
   "cell_type": "markdown",
   "id": "d7dcc775",
   "metadata": {},
   "source": [
    "## Set Index\n",
    "\n",
    "In Pandas the [set_index( )](https://pandas.pydata.org/docs/reference/api/pandas.DataFrame.set_index.html) method is used to set one or more existing columns (or arrays of the correct length) as the index of a DataFrame. This allows for more meaningful and efficient data selection and alignment. \n",
    "\n",
    "`df.set_index(keys, drop=True)`\n",
    "\n",
    "   * `keys`: a single column label; an array-like object of the same length as the dataframe\n",
    "   * `drop`: If `True` (default), the column used as the new index will be removed from the DataFrame's columns. If `False`, they will remain as regular columns in addition to being the index.\n",
    "\n",
    "   ---\n",
    "\n",
    "Add the `inplace=True` parameter or make a `copy()` of the dataframe and save the change to this copy."
   ]
  },
  {
   "cell_type": "markdown",
   "id": "94fdc291",
   "metadata": {},
   "source": [
    "## Reset Index\n",
    "\n",
    "The [reset_index( )](https://pandas.pydata.org/docs/reference/api/pandas.DataFrame.reset_index.html) method in pandas is used to reset the index of a DataFrame or Series to the default integer-based index (0, 1, 2, ...). This operation converts the current index into a regular column(s) within the DataFrame.\n",
    "\n",
    "`df.reset_index(**, drop=False)`\n",
    "   * `drop`: The `drop=True` argument can be used to discard the old index entirely, preventing it from becoming a new column.\n",
    "\n",
    "---\n",
    "\n",
    "Add the `inplace=True` parameter or make a `copy()` of the dataframe and save the change to this copy."
   ]
  },
  {
   "cell_type": "code",
   "execution_count": 5,
   "id": "bf48d28a",
   "metadata": {},
   "outputs": [
    {
     "name": "stdout",
     "output_type": "stream",
     "text": [
      "       DATE PRCP SNOW TMAX  TMIN\n",
      "0  20130101    0    0    0  -117\n",
      "1  20130102    0    0  -44  -161\n",
      "2  20130103    0    0  -50  -178\n"
     ]
    }
   ],
   "source": [
    "# notice when the the row was dropped the index was also dropped\n",
    "# reset the indices so they are ordered correctly\n",
    "inplace=True\n",
    "df=df.reset_index(drop=True)\n",
    "print(df.head(3))\n"
   ]
  },
  {
   "cell_type": "markdown",
   "id": "efc8aa7b",
   "metadata": {},
   "source": [
    "# Locating/Handling Missing Values\n",
    "\n"
   ]
  },
  {
   "cell_type": "markdown",
   "id": "a2acdcae",
   "metadata": {},
   "source": [
    "## Locating Missing Values\n",
    "\n",
    "In pandas, [isnull( )](https://pandas.pydata.org/docs/reference/api/pandas.isnull.html) is a function used to detect missing or null values (NaN, None, NaT) within a Series or DataFrame. It returns a boolean object of the same shape, where True indicates a missing value and False indicates a valid value.\n",
    "\n",
    "`df.isnull()`\n",
    "\n",
    "This will return the dataframe with `True` or `False` for each value in the dataframe. \n",
    "\n",
    "This may not be as helpful as knowing exactly where the `NaN` value occurs.  This can be done by using `isnull()`, on a specific column, within a `loc` call.\n",
    "\n",
    "`df.loc[df['col_name'].isnull()]`\n",
    "\n",
    "This will return the row(s), of a specific column, with a `NaN` in it."
   ]
  },
  {
   "cell_type": "code",
   "execution_count": null,
   "id": "af4c977f",
   "metadata": {},
   "outputs": [
    {
     "name": "stdout",
     "output_type": "stream",
     "text": [
      "Index([143], dtype='int64')\n",
      "Index([], dtype='int64')\n",
      "Index([181], dtype='int64')\n",
      "Index([3, 243], dtype='int64')\n"
     ]
    }
   ],
   "source": [
    "# look through the columns to find where there are any missing values\n",
    "# add .index to the end of the line of code, look at the value returned\n",
    "# assign each of the returned objects to a variable that can be used later\n",
    "missing_prcp=df[df['PRCP'].isnull()].index\n",
    "missing_snow=df[df['SNOW'].isnull()].index\n",
    "missing_tmax=df[df['TMAX'].isnull()].index\n",
    "missing_tmin=df[df['TMIN'].isnull()].index\n",
    "print(missing_prcp)\n",
    "print(missing_snow)\n",
    "print(missing_tmax)\n",
    "print(missing_tmin)\n"
   ]
  },
  {
   "cell_type": "markdown",
   "id": "3ae9cef1",
   "metadata": {},
   "source": [
    "## Handling Missing Values\n",
    "\n"
   ]
  },
  {
   "cell_type": "markdown",
   "id": "163ed53e",
   "metadata": {},
   "source": [
    "### Drop Missing Values\n",
    "\n",
    "The [dropna( )](https://pandas.pydata.org/docs/reference/api/pandas.DataFrame.dropna.html) method is used to remove rows or columns from a DataFrame that contain missing values (represented by NaN or None). It is a fundamental function for data cleaning and manipulation.\n",
    "\n",
    "`df.dropna()`\n",
    "\n",
    "The default behavior is to remove all rows that have one or more NaN values.\n",
    "\n",
    "---\n",
    "\n",
    "Add the `inplace=True` parameter or make a `copy()` of the dataframe and save the change to this copy.\n",
    "\n",
    "---"
   ]
  },
  {
   "cell_type": "code",
   "execution_count": null,
   "id": "23754767",
   "metadata": {},
   "outputs": [],
   "source": []
  },
  {
   "cell_type": "markdown",
   "id": "353b920f",
   "metadata": {},
   "source": [
    "### Replace missing values\n",
    "\n",
    "The [fillna( )](https://pandas.pydata.org/docs/reference/api/pandas.DataFrame.fillna.html) method in Pandas is used to replace missing values (NaN or NA) in a Series or DataFrame with a specified value or using a particular method.\n",
    "\n",
    "   * Filling with a scalar value: You can replace all `NaN` values with a single value, such as 0, the mean, or a specific string.\n",
    "\n",
    "      `df.fillna(val)`\n",
    "\n",
    "   * Filling with Different Values per Column: You can provide a dictionary to `fillna()` to specify different fill values for different columns.\n",
    "\n",
    "      `values={col_name1:val1, col_name2:val2, ...}`\n",
    "\n",
    "      `df.fillna(value=values)`\n",
    "\n",
    "---\n",
    "\n",
    "Add the `inplace=True` parameter or make a `copy()` of the dataframe and save the change to this copy.\n",
    "\n",
    "---"
   ]
  },
  {
   "cell_type": "markdown",
   "id": "58d0e81b",
   "metadata": {},
   "source": [
    "# Duplicate Rows\n",
    "Duplicate records can distort your analysis by influencing the results in ways that do not accurately show trends and underlying patterns (by producing outliers)."
   ]
  },
  {
   "cell_type": "markdown",
   "id": "8207b11f",
   "metadata": {},
   "source": [
    "## Identify Duplicates\n",
    "\n",
    "The [duplicated( )](https://pandas.pydata.org/docs/reference/api/pandas.DataFrame.duplicated.html) method returns a Series with True and False values that describe which rows in the DataFrame are duplicated and not.\n",
    "\n",
    "`df.duplicated(**kwargs)`\n",
    "\n",
    "Optional Parameters:\n",
    "\n",
    "* `subset=column_label(s)`:\tA String, or a list, of the column names to include when looking for duplicates.  Default `subset=None` (meaning no subset is specified, and all columns should be included.\n",
    "\n",
    "---\n",
    "\n",
    "* add `.sum()` to the end of the line of code to see how many sets of rows are duplicated\n",
    "* find the duplicated row using `.loc`"
   ]
  },
  {
   "cell_type": "code",
   "execution_count": null,
   "id": "200e6cfc",
   "metadata": {},
   "outputs": [],
   "source": [
    "# get the index of the row that is a duplicate of the previous row(s)\n",
    "\n"
   ]
  },
  {
   "cell_type": "markdown",
   "id": "2bf75762",
   "metadata": {},
   "source": [
    "## Remove Duplicates\n",
    "\n",
    "The [drop_duplicates( )]() method in Pandas is used to remove duplicate rows from a DataFrame. \n",
    "\n",
    "`df.drop_duplicates(**kwargs)`\n",
    "\n",
    "* `keep`: 'first' to keep the first occurance; 'last' to keep the last; and False to drop all occurances\n",
    "\n",
    "* `subset`: column or list of columns to base the drop on\n",
    "\n",
    "---\n",
    "\n",
    "Add the `inplace=True` parameter or make a `copy()` of the dataframe and save the change to this copy.\n",
    "\n",
    "Reset the indices after removing rows\n",
    "\n",
    "---"
   ]
  },
  {
   "cell_type": "code",
   "execution_count": null,
   "id": "0f59d8da",
   "metadata": {},
   "outputs": [],
   "source": [
    "# drop the duplicated row and reset the indices\n",
    "\n"
   ]
  },
  {
   "cell_type": "markdown",
   "id": "727cd700",
   "metadata": {},
   "source": [
    "# Changing Datatypes"
   ]
  },
  {
   "cell_type": "markdown",
   "id": "f52b5b01",
   "metadata": {},
   "source": [
    "## `.astype()`\n",
    "\n",
    "[astype( )](https://pandas.pydata.org/docs/reference/api/pandas.DataFrame.astype.html) is the most direct and versatile method for converting a column to a specific data type.\n",
    "\n",
    "`df.astype(dtype, **kwargs)`\n",
    "\n",
    "* `dtype`: Use a str, numpy.dtype, pandas.ExtensionDtype or Python type to cast entire pandas object to the same type. Alternatively, use a mapping, e.g. {col: dtype, …}, where col is a column label and dtype is a numpy.dtype or Python type\n",
    "\n",
    "---\n",
    "\n",
    "Assign the change to the same dataframe or to a new one\n",
    "\n",
    "Use `.info()` to confirm the changes have occurred"
   ]
  },
  {
   "cell_type": "code",
   "execution_count": null,
   "id": "519c672f",
   "metadata": {},
   "outputs": [],
   "source": [
    "# Change the non-date columns to floats\n",
    "\n"
   ]
  },
  {
   "cell_type": "markdown",
   "id": "b875fa6d",
   "metadata": {},
   "source": [
    "# Assigning Values to Cells"
   ]
  },
  {
   "cell_type": "markdown",
   "id": "8a761838",
   "metadata": {},
   "source": [
    "The [at( )](https://pandas.pydata.org/docs/reference/api/pandas.DataFrame.at.html) accessor is used to access a single value in a DataFrame by using a row and column label. It is the fastest and most efficient method for this specific task.\n",
    "\n",
    "`df.at[row_label, column_label]`\n",
    "\n",
    "* Label-based access: at uses the row and column names (labels) to find a specific cell, not their integer position. This is a key difference from `.iat`.\n",
    "\n",
    "* Scalar value access: `at` is optimized for getting or setting a single, non-aggregated value.\n",
    "\n",
    "* High performance: When you only need to access or update one value, at is significantly faster than `.loc` because it has less overhead.\n",
    "\n",
    "* Write capabilities: You can use `at` to both **get and set** a value."
   ]
  },
  {
   "cell_type": "code",
   "execution_count": null,
   "id": "483b6ef8",
   "metadata": {},
   "outputs": [],
   "source": [
    "# practice changing the NaN values you found earlier;\n",
    "# then replace the NaN in the 'date' column with an appropriate value\n",
    "# finally convert all dates in the column to datetime objects\n",
    "\n"
   ]
  },
  {
   "cell_type": "code",
   "execution_count": 10,
   "id": "ff0f99a5",
   "metadata": {},
   "outputs": [],
   "source": [
    "# Replace the missing values in the tmax and tmin columns with the average\n",
    "# temperatures for the months they exist in\n",
    "\n"
   ]
  },
  {
   "cell_type": "code",
   "execution_count": 11,
   "id": "07e031fa",
   "metadata": {},
   "outputs": [],
   "source": [
    "# Replace the missing 'prcp' data with the median prcp value for the month\n",
    "# in which it exists\n",
    "\n"
   ]
  },
  {
   "cell_type": "code",
   "execution_count": 12,
   "id": "4ed2d17e",
   "metadata": {},
   "outputs": [],
   "source": [
    "# Create a copy of the dataframe and remove the row where 'snow' has a missing value\n",
    "\n"
   ]
  },
  {
   "cell_type": "markdown",
   "id": "88c2bfd4",
   "metadata": {},
   "source": [
    "# Assigning Values to an Entire Column\n"
   ]
  },
  {
   "cell_type": "markdown",
   "id": "a652e7f1",
   "metadata": {},
   "source": [
    "## Direct Assignment\n",
    "\n",
    "This is the most common and straightforward method. You select the column by its name and assign a single value to it. Pandas will automatically broadcast this single value to all rows in that column.\n",
    "\n",
    "`df[col_name] = val`\n",
    "\n",
    "---\n",
    "\n",
    "If the column doesn't exist it will be created and filled with value"
   ]
  },
  {
   "cell_type": "markdown",
   "id": "214502f3",
   "metadata": {},
   "source": [
    "## Using .loc Accessor\n",
    "\n",
    "The `.loc` accessor allows for label-based indexing and can be used to select all rows and a specific column for assignment. This method is particularly useful when you want to explicitly indicate that you are modifying the original DataFrame.\n",
    "\n",
    "`df.loc[:, col_name] = value`"
   ]
  },
  {
   "cell_type": "markdown",
   "id": "b8f76274",
   "metadata": {},
   "source": [
    "## Using assign() method:\n",
    "The [assign( )](https://pandas.pydata.org/docs/reference/api/pandas.DataFrame.assign.html) method creates new columns or modifies existing ones and returns a new DataFrame. This method is useful when you want to avoid modifying the original DataFrame in place.\n",
    "\n",
    "For a single column:\n",
    "\n",
    "`df.assign(col_name = value)`\n",
    "\n",
    "---\n",
    "\n",
    "`df.assign(dict)`\n",
    "\n",
    "* `dict`: A dictionary of `col_name: values` pairs\n",
    "\n",
    "---\n",
    "\n",
    "`value` is a single value, a list of values of the same length as the dataframe, or a function to compute the values to be assigned\n",
    "\n"
   ]
  },
  {
   "cell_type": "code",
   "execution_count": 13,
   "id": "293c660c",
   "metadata": {},
   "outputs": [],
   "source": [
    "# convert the values for 'prcp' and 'snow' to inches\n",
    "\n"
   ]
  },
  {
   "cell_type": "code",
   "execution_count": 14,
   "id": "e7a296ce",
   "metadata": {},
   "outputs": [],
   "source": [
    "# create two new columns to to store the temperature conversions to Fahrenheit\n",
    "\n"
   ]
  }
 ],
 "metadata": {
  "kernelspec": {
   "display_name": "Python 3",
   "language": "python",
   "name": "python3"
  },
  "language_info": {
   "codemirror_mode": {
    "name": "ipython",
    "version": 3
   },
   "file_extension": ".py",
   "mimetype": "text/x-python",
   "name": "python",
   "nbconvert_exporter": "python",
   "pygments_lexer": "ipython3",
   "version": "3.13.2"
  }
 },
 "nbformat": 4,
 "nbformat_minor": 5
}
